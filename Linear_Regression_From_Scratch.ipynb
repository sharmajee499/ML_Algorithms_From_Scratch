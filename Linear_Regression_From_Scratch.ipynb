{
 "cells": [
  {
   "cell_type": "code",
   "execution_count": 2,
   "metadata": {},
   "outputs": [],
   "source": [
    "#implementing the Linear Regression from Scratch, just using scipy, numpy, pandas and matplotlib"
   ]
  },
  {
   "cell_type": "markdown",
   "metadata": {},
   "source": [
    "## Making the model"
   ]
  },
  {
   "cell_type": "code",
   "execution_count": 3,
   "metadata": {},
   "outputs": [],
   "source": [
    "#importing the libraries\n",
    "import pandas as pd\n",
    "import numpy as np\n",
    "import scipy as sp\n",
    "import matplotlib.pyplot as plt\n",
    "import seaborn as sns"
   ]
  },
  {
   "cell_type": "code",
   "execution_count": 95,
   "metadata": {},
   "outputs": [
    {
     "data": {
      "text/plain": [
       "array([[ 1,  4],\n",
       "       [ 2,  8],\n",
       "       [ 3, 10],\n",
       "       [ 4, 12],\n",
       "       [ 5, 14],\n",
       "       [ 6, 16],\n",
       "       [ 7, 18]])"
      ]
     },
     "execution_count": 95,
     "metadata": {},
     "output_type": "execute_result"
    }
   ],
   "source": [
    "#making the dummy data\n",
    "data= np.array([[1,4,2,8,3,10,4,12,5,14,6,16,7,18]],np.int32)\n",
    "#reshaping the data in to ss2 columns\n",
    "data= np.reshape(data,(-1,2))\n",
    "\n",
    "data"
   ]
  },
  {
   "cell_type": "code",
   "execution_count": 96,
   "metadata": {},
   "outputs": [],
   "source": [
    "#seprating the dependent and independent variable\n",
    "#for our data we will make x=first column, and y= second column\n",
    "X= data[:,0]\n",
    "Y= data[:,1]"
   ]
  },
  {
   "cell_type": "markdown",
   "metadata": {},
   "source": [
    "Regression Line=> $y=mx+c$\n",
    "where, y is dependent variable, x is independent variable and c is y intercept and m is slope\n",
    " \n",
    "## $Slope, m=\\frac{\\sum(x-\\overline{x})(y-\\overline{y})}{\\sum(x-\\overline{x}){^2}}$\n",
    "where, $\\overline{x}$ is mean of X, and $\\overline{y}$ is mean of Y"
   ]
  },
  {
   "cell_type": "code",
   "execution_count": 97,
   "metadata": {},
   "outputs": [
    {
     "name": "stdout",
     "output_type": "stream",
     "text": [
      "2.2142857142857144\n",
      "2.5\n"
     ]
    }
   ],
   "source": [
    "#Calculating the mean of the X and Y \n",
    "mean_x= X.mean()\n",
    "mean_y= Y.mean()\n",
    "\n",
    "#Using the above formula to calculate the slope and y-intercept(c)\n",
    "numenator=0\n",
    "denominator=0\n",
    "for i in range(len(X)):\n",
    "    numenator += (X[i]-mean_x)*(Y[i]-mean_y)\n",
    "    denominator += (X[i]-mean_x)**2\n",
    "    \n",
    "slope= numenator/denominator\n",
    "print(slope)\n",
    "#The y-intercept(c) can be found by plogging any X and Y value from the data. The c is a constant, so we can take any value\n",
    "y_intercept= Y[i]-slope*X[i]\n",
    "print(y_intercept)"
   ]
  },
  {
   "cell_type": "code",
   "execution_count": 98,
   "metadata": {},
   "outputs": [
    {
     "data": {
      "image/png": "[encoded data removed]",
      "text/plain": [
       "<Figure size 432x288 with 1 Axes>"
      ]
     },
     "metadata": {
      "needs_background": "light"
     },
     "output_type": "display_data"
    }
   ],
   "source": [
    "#Plotting the Actual And Predicted Values\n",
    "#calculating the predicted values\n",
    "y_pred=[]\n",
    "for i in range(len(X)):\n",
    "    y_pred.append(round(slope*X[i]+y_intercept,3))\n",
    "    \n",
    "#Plotting the values\n",
    "plt.scatter(X,Y, color='r', label=\"Ground Truth\")\n",
    "plt.plot(X,y_pred, color='b', label=\"Predicted\")\n",
    "plt.xlabel(\"Independent Variable\")\n",
    "plt.ylabel(\"Dependent Variable\")\n",
    "plt.legend()\n",
    "plt.show()"
   ]
  },
  {
   "cell_type": "markdown",
   "metadata": {},
   "source": [
    "## Loss Function and Goodness of Fit"
   ]
  },
  {
   "cell_type": "markdown",
   "metadata": {},
   "source": [
    "R–squared value is the statistical measure to show how close the data are to the fitted regression line.\n",
    "\n",
    "## $ R{^2}=1-\\frac{\\sum({y_p-\\overline{y}})^2}{\\sum{(y-\\overline{y})^2}}     $"
   ]
  },
  {
   "cell_type": "code",
   "execution_count": 99,
   "metadata": {},
   "outputs": [],
   "source": [
    "#Computing R2\n",
    "num=0\n",
    "denom=0\n",
    "\n",
    "for i in range(len(Y)):\n",
    "    num += (y_pred[i]-mean_y)**2\n",
    "    denom += (Y[i]- mean_y)**2\n",
    "    \n",
    "r2= 1-(num/denom)"
   ]
  },
  {
   "cell_type": "markdown",
   "metadata": {},
   "source": [
    "The root-mean-square deviation (RMSD) or root-mean-square error (RMSE) is a frequently used measure of the differences between values (sample or population values) predicted by a model or an estimator and the values observed. \n",
    "\n",
    "## $ RMSE = \\frac{\\sqrt{\\sum_{i=1}^{n}(y_p-y)^2}}{n} $"
   ]
  },
  {
   "cell_type": "code",
   "execution_count": 100,
   "metadata": {},
   "outputs": [],
   "source": [
    "#Computing the RMSE\n",
    "import math\n",
    "error=0\n",
    "\n",
    "for i in range(len(X)):\n",
    "    error += (y_pred[i]-Y[i]) **2\n",
    "    \n",
    "rmse=round(math.sqrt(error)/len(X),3)"
   ]
  },
  {
   "cell_type": "code",
   "execution_count": 101,
   "metadata": {},
   "outputs": [
    {
     "name": "stdout",
     "output_type": "stream",
     "text": [
      "0.008965159836065828 0.249\n"
     ]
    }
   ],
   "source": [
    "print(r2, rmse)"
   ]
  },
  {
   "cell_type": "markdown",
   "metadata": {},
   "source": [
    "### Making the Model Using the Gradient Descent Algorithm"
   ]
  },
  {
   "cell_type": "markdown",
   "metadata": {},
   "source": [
    "\n",
    "$Loss Function, E= \\frac{1}{n} \\sum_{i=0}^{n}(y_{i}-\\overline{y}_{i})^2$\n",
    "\n",
    "where, $\\overline{y}_{i}$ is the predicted value. Now, replacing the $\\overline{y}$ with $mx_{i}+c$ then ,\n",
    "\n",
    "$Loss Function, E= \\frac{1}{n} \\sum_{i=0}^{n}(y_{i}-(mx_{i}+c))^2$\n",
    "\n"
   ]
  },
  {
   "cell_type": "markdown",
   "metadata": {},
   "source": [
    "Initially let m = 0 and c = 0. Let L be our learning rate. This controls how much the value of m changes with each step. \n",
    "Calculate the partial derivative of the loss function with respect to m, and plug in the current values of x, y, m and c in it to obtain the derivative value D.\n",
    "\n",
    "$D_{m}=\\frac{-2}{n}\\sum_{i=0}^n x_{i}(y_{i}-\\overline{y}_{i})$\n",
    "\n",
    "Similarly, finding the partial derivative with respect to c, for $D_{c}$\n",
    "\n",
    "$D_{c}= \\frac{-2}{n}\\sum_{i=0}^n (y_{i}-\\overline{y}_{i})$\n"
   ]
  },
  {
   "cell_type": "markdown",
   "metadata": {},
   "source": [
    "After that we have to update the m and c using the following equation\n",
    "\n",
    "$m = m-L*D_{m}$\n",
    "\n",
    "$c = c-L*D_{c}$ , where $L$ is learning rate"
   ]
  },
  {
   "cell_type": "code",
   "execution_count": 132,
   "metadata": {},
   "outputs": [
    {
     "name": "stdout",
     "output_type": "stream",
     "text": [
      "2.60011194268924 0.946554119496084\n"
     ]
    }
   ],
   "source": [
    "#making the model\n",
    "m=0\n",
    "c=0\n",
    "\n",
    "L= 0.0001 #Learning rate\n",
    "epochs= 5000 #number of iteration\n",
    "\n",
    "n= float(len(X)) #number of elements in X\n",
    "\n",
    "#Gradient Descent\n",
    "for i in range(epochs):\n",
    "    Y_pred= m*X+c\n",
    "    D_m = (-2/n) * sum(X * (Y - Y_pred))  # Derivative wrt m\n",
    "    D_c = (-2/n) * sum(Y - Y_pred)  # Derivative wrt c\n",
    "    m = m - L * D_m  # Update m\n",
    "    c = c - L * D_c  # Update c\n",
    "    \n",
    "print(m,c)"
   ]
  },
  {
   "cell_type": "code",
   "execution_count": 133,
   "metadata": {},
   "outputs": [
    {
     "data": {
      "text/plain": [
       "array([ 3.54666606,  6.146778  ,  8.74688995, 11.34700189, 13.94711383,\n",
       "       16.54722578, 19.14733772])"
      ]
     },
     "execution_count": 133,
     "metadata": {},
     "output_type": "execute_result"
    }
   ],
   "source": [
    "y_grd_pred= m*X+c\n",
    "y_grd_pred"
   ]
  },
  {
   "cell_type": "code",
   "execution_count": 134,
   "metadata": {},
   "outputs": [
    {
     "data": {
      "text/plain": [
       "<matplotlib.legend.Legend at 0x286dd3f4ca0>"
      ]
     },
     "execution_count": 134,
     "metadata": {},
     "output_type": "execute_result"
    },
    {
     "data": {
      "image/png": "[encoded data removed]",
      "text/plain": [
       "<Figure size 432x288 with 1 Axes>"
      ]
     },
     "metadata": {
      "needs_background": "light"
     },
     "output_type": "display_data"
    }
   ],
   "source": [
    "plt.plot(y_grd_pred, color=\"b\",label=\"Predicted\")\n",
    "plt.scatter(X,Y, color='r', label='Ground Truth')\n",
    "plt.legend()"
   ]
  },
  {
   "cell_type": "code",
   "execution_count": 135,
   "metadata": {},
   "outputs": [
    {
     "name": "stdout",
     "output_type": "stream",
     "text": [
      "0.385\n"
     ]
    }
   ],
   "source": [
    "error_sgd=0\n",
    "for i in range(len(Y)):\n",
    "    error_sgd += (y_grd_pred[i]-Y[i]) **2\n",
    "    \n",
    "rmse_sgd=round(math.sqrt(error_sgd)/len(X),3)\n",
    "print(rmse_sgd)"
   ]
  }
 ],
 "metadata": {
  "kernelspec": {
   "display_name": "Python 3.7.6 64-bit ('base': conda)",
   "language": "python",
   "name": "python37664bitbaseconda23cdc37bdc354d31a7ccddac4bd064a5"
  },
  "language_info": {
   "codemirror_mode": {
    "name": "ipython",
    "version": 3
   },
   "file_extension": ".py",
   "mimetype": "text/x-python",
   "name": "python",
   "nbconvert_exporter": "python",
   "pygments_lexer": "ipython3",
   "version": "3.8.3"
  }
 },
 "nbformat": 4,
 "nbformat_minor": 4
}
