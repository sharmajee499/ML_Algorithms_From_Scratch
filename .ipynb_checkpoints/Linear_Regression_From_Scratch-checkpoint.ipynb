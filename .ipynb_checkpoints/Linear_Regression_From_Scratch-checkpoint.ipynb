{
 "cells": [
  {
   "cell_type": "code",
   "execution_count": 1,
   "metadata": {},
   "outputs": [],
   "source": [
    "#implementing the Linear Regression from Scratch, just using scipy, numpy, pandas and matplotlib"
   ]
  },
  {
   "cell_type": "markdown",
   "metadata": {},
   "source": [
    "## Making the model"
   ]
  },
  {
   "cell_type": "code",
   "execution_count": 28,
   "metadata": {},
   "outputs": [],
   "source": [
    "#importing the libraries\n",
    "import pandas as pd\n",
    "import numpy as np\n",
    "import scipy as sp\n",
    "import matplotlib.pyplot as plt\n",
    "import seaborn as sns"
   ]
  },
  {
   "cell_type": "code",
   "execution_count": 13,
   "metadata": {},
   "outputs": [
    {
     "data": {
      "text/plain": [
       "array([[ 1, 20],\n",
       "       [ 2, 25],\n",
       "       [ 3, 30],\n",
       "       [ 4, 45],\n",
       "       [ 5, 45],\n",
       "       [ 6, 60],\n",
       "       [ 7, 70]])"
      ]
     },
     "execution_count": 13,
     "metadata": {},
     "output_type": "execute_result"
    }
   ],
   "source": [
    "#making the dummy data\n",
    "data= np.array([[1,20,2,25,3,30,4,45,5,45,6,60,7,70]],np.int32)\n",
    "#reshaping the data in to ss2 columns\n",
    "data= np.reshape(data,(-1,2))\n",
    "\n",
    "data"
   ]
  },
  {
   "cell_type": "code",
   "execution_count": 18,
   "metadata": {},
   "outputs": [],
   "source": [
    "#seprating the dependent and independent variable\n",
    "#for our data we will make x=first column, and y= second column\n",
    "X= data[:,0]\n",
    "Y= data[:,1]"
   ]
  },
  {
   "cell_type": "markdown",
   "metadata": {},
   "source": [
    "Regression Line=> $y=mx+c$\n",
    "where, y is dependent variable, x is independent variable and c is y intercept and m is slope\n",
    " \n",
    "## $Slope, m=\\frac{\\sum(x-\\overline{x})(y-\\overline{y})}{\\sum(x-\\overline{x}){^2}}$\n",
    "where, $\\overline{x}$ is mean of X, and $\\overline{y}$ is mean of Y"
   ]
  },
  {
   "cell_type": "code",
   "execution_count": 27,
   "metadata": {},
   "outputs": [],
   "source": [
    "#Calculating the mean of the X and Y \n",
    "mean_x= X.mean()\n",
    "mean_y= Y.mean()\n",
    "\n",
    "#Using the above formula to calculate the slope and y-intercept(c)\n",
    "numenator=0\n",
    "denominator=0\n",
    "for i in range(len(X)):\n",
    "    numenator += (X[i]-mean_x)*(Y[i]-mean_y)\n",
    "    denominator += (X[i]-mean_x)**2\n",
    "    \n",
    "slope= numenator/denominator\n",
    "\n",
    "#The y-intercept(c) can be found by plogging any X and Y value from the data. The c is a constant, so we can take any value\n",
    "y_intercept= Y[i]-slope*X[i]"
   ]
  },
  {
   "cell_type": "code",
   "execution_count": 45,
   "metadata": {},
   "outputs": [
    {
     "data": {
      "image/png": "[encoded data removed]",
      "text/plain": [
       "<Figure size 432x288 with 1 Axes>"
      ]
     },
     "metadata": {
      "needs_background": "light"
     },
     "output_type": "display_data"
    }
   ],
   "source": [
    "#Plotting the Actual And Predicted Values\n",
    "#calculating the predicted values\n",
    "y_pred=[]\n",
    "for i in range(len(X)):\n",
    "    y_pred.append(round(slope*X[i]+y_intercept,3))\n",
    "    \n",
    "#Plotting the values\n",
    "plt.scatter(X,Y, color='r', label=\"Ground Truth\")\n",
    "plt.plot(X,y_pred, color='b', label=\"Predicted\")\n",
    "plt.xlabel(\"Independent Variable\")\n",
    "plt.ylabel(\"Dependent Variable\")\n",
    "plt.legend()\n",
    "plt.show()"
   ]
  },
  {
   "cell_type": "markdown",
   "metadata": {},
   "source": [
    "## Loss Function and Goodness of Fit"
   ]
  },
  {
   "cell_type": "markdown",
   "metadata": {},
   "source": [
    "R–squared value is the statistical measure to show how close the data are to the fitted regression line.\n",
    "\n",
    "## $ R{^2}=1-\\frac{\\sum({y_p-\\overline{y}})^2}{\\sum{(y-\\overline{y})^2}}     $"
   ]
  },
  {
   "cell_type": "code",
   "execution_count": 48,
   "metadata": {},
   "outputs": [],
   "source": [
    "#Computing R2\n",
    "num=0\n",
    "denom=0\n",
    "\n",
    "for i in range(len(Y)):\n",
    "    num += (y_pred[i]-mean_y)**2\n",
    "    denom += (Y[i]- mean_y)**2\n",
    "    \n",
    "r2= 1-(num/denom)"
   ]
  },
  {
   "cell_type": "markdown",
   "metadata": {},
   "source": [
    "The root-mean-square deviation (RMSD) or root-mean-square error (RMSE) is a frequently used measure of the differences between values (sample or population values) predicted by a model or an estimator and the values observed. \n",
    "\n",
    "## $ RMSE = \\frac{\\sqrt{\\sum_{i=1}^{n}(y_p-y)^2}}{n} $"
   ]
  },
  {
   "cell_type": "code",
   "execution_count": 51,
   "metadata": {},
   "outputs": [],
   "source": [
    "#Computing the RMSE\n",
    "import math\n",
    "error=0\n",
    "\n",
    "for i in range(len(X)):\n",
    "    error += (y_pred[i]-Y[i]) **2\n",
    "    \n",
    "rmse=round(math.sqrt(error)/len(X),3)"
   ]
  },
  {
   "cell_type": "code",
   "execution_count": 53,
   "metadata": {},
   "outputs": [
    {
     "name": "stdout",
     "output_type": "stream",
     "text": [
      "0.00995961510489507 1.57\n"
     ]
    }
   ],
   "source": [
    "print(r2, rmse)"
   ]
  }
 ],
 "metadata": {
  "kernelspec": {
   "display_name": "Python 3.7.6 64-bit ('base': conda)",
   "language": "python",
   "name": "python37664bitbaseconda23cdc37bdc354d31a7ccddac4bd064a5"
  },
  "language_info": {
   "codemirror_mode": {
    "name": "ipython",
    "version": 3
   },
   "file_extension": ".py",
   "mimetype": "text/x-python",
   "name": "python",
   "nbconvert_exporter": "python",
   "pygments_lexer": "ipython3",
   "version": "3.8.3"
  }
 },
 "nbformat": 4,
 "nbformat_minor": 4
}
